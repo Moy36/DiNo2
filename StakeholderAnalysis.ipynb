{
 "cells": [
  {
   "cell_type": "markdown",
   "id": "abcfc32e-7c08-442b-83f6-ddbcf227b29a",
   "metadata": {},
   "source": []
  },
  {
   "cell_type": "code",
   "execution_count": 766,
   "id": "1aede333-039d-4ed7-bad6-a3eb1f17b121",
   "metadata": {},
   "outputs": [],
   "source": [
    "import numpy as np\n",
    "import pandas as pd\n",
    "import matplotlib.pyplot as plt\n",
    "import seaborn as sns"
   ]
  },
  {
   "cell_type": "code",
   "execution_count": 767,
   "id": "c48e9886-0f4e-4532-ac58-705cc634910f",
   "metadata": {},
   "outputs": [],
   "source": [
    "survey = pd.read_csv('./survey_or.csv')\n",
    "interview = pd.read_csv('./Stakeholders_FRs_Bens.csv')\n",
    "it_stakeholders = pd.read_csv('./DeIDStakeholderLog_v1.csv',index_col=0)"
   ]
  },
  {
   "cell_type": "markdown",
   "id": "4680d844-8b69-42cb-9450-6f84529c9299",
   "metadata": {},
   "source": [
    "Preprocess Interview Data\n",
    "\n",
    "?? G-STK-001\n",
    "\n",
    "STK-011 twice for different notebooks"
   ]
  },
  {
   "cell_type": "code",
   "execution_count": 769,
   "id": "6904d3d4-955b-4950-a193-b8603f4419c0",
   "metadata": {},
   "outputs": [],
   "source": [
    "index_list = interview['Stakeholder ID'].tolist()\n",
    "\n",
    "index_list[0] = 'STK-001'\n",
    "\n",
    "it_stakeholders = it_stakeholders[it_stakeholders['Stakeholder ID'].isin(index_list)]\n",
    "it_stakeholders = it_stakeholders.set_index('Stakeholder ID')\n",
    "\n",
    "renameit = {'Primary stakeholder group (from mapping)':'Stakeholder Group'}\n",
    "it_stakeholders.rename(columns = renameit, inplace = True)\n",
    "it_stakeholders.fillna('Unknown', inplace=True)\n"
   ]
  },
  {
   "cell_type": "markdown",
   "id": "57d96b11-6cc8-4624-ba26-823be5354eab",
   "metadata": {},
   "source": [
    "Preprocess Survey Data"
   ]
  },
  {
   "cell_type": "code",
   "execution_count": 771,
   "id": "2ff3d717-1100-4434-a8aa-4902ca3e72e6",
   "metadata": {},
   "outputs": [],
   "source": [
    "start = survey.columns.get_loc('Q2.1')\n",
    "end = survey.columns.get_loc('Q2.24')\n",
    "sv_stakeholders = survey.iloc[1:,start:end+1]\n",
    "sv_stakeholders = sv_stakeholders.drop('Q2.3',axis=1)\n",
    "\n",
    "#FBMH\n",
    "sv_stakeholders['Division_FBWH'] = sv_stakeholders.apply(\n",
    "    lambda row: ''.join([\n",
    "        str(x) for x in [row['Q2.6'], row['Q2.7'], row['Q2.8'], row['Q2.9']] if pd.notna(x)]),axis=1)\n",
    "\n",
    "#FSE\n",
    "sv_stakeholders['Division_FSE'] = sv_stakeholders.apply(\n",
    "    lambda row: ''.join([\n",
    "        str(x) for x in [row['Q2.18'], row['Q2.19'], row['Q2.20']] if pd.notna(x)]),axis=1)\n",
    "\n",
    "#All Division \n",
    "sv_stakeholders['Department or Division'] = sv_stakeholders.apply(\n",
    "    lambda row: ''.join([\n",
    "        str(x) for x in [row['Q2.12'], row['Q2.15'], row['Division_FBWH'],row['Division_FSE']] if pd.notna(x)]),axis=1)\n",
    "\n",
    "#All School\n",
    "sv_stakeholders['School'] = sv_stakeholders.apply(\n",
    "    lambda row: ''.join([\n",
    "        str(x) for x in [row['Q2.5'], row['Q2.11'], row['Q2.14'],row['Q2.17']] if pd.notna(x)]),axis=1)\n",
    "\n",
    "#All Institute/Building/Affilitation\n",
    "sv_stakeholders['Institute/Building/Affilitation'] = sv_stakeholders.apply(\n",
    "    lambda row: ''.join([\n",
    "        str(x) for x in [row['Q2.22'], row['Q2.24']] if pd.notna(x)]),axis=1)\n",
    "\n",
    "sv_stakeholders = sv_stakeholders[['Q2.1', 'Q2.2','School','Department or Division','Institute/Building/Affilitation']]\n",
    "\n",
    "rename = {'Q2.1':'Stakeholder Group', 'Q2.2':'Faculty'}\n",
    "sv_stakeholders.rename(columns = rename, inplace = True)\n",
    "sv_stakeholders.fillna('Unknown', inplace=True)"
   ]
  },
  {
   "cell_type": "markdown",
   "id": "9034823d-235c-40c2-95a4-d004e66e53c1",
   "metadata": {},
   "source": [
    "? the school HUMS and PS do not have questions to know the division\n",
    "\n",
    "? if Q2.14 for Ps is school and Q2.15 for ps is division \n",
    "\n",
    "？match Q2.12, Q2.20, Q2.9 with division in interview\n",
    "'Technical Services':'Technical'\n",
    "\n",
    "? for stakeholder group match \n",
    "'Research supporting (Other)'= 'Academic Research Support',\n",
    "Technical Support= Research supporting (Technical)\n",
    "None of the above = NaN"
   ]
  },
  {
   "cell_type": "markdown",
   "id": "f90fa7a7-da8f-408a-96f4-be10485e3d29",
   "metadata": {},
   "source": [
    "Matching "
   ]
  },
  {
   "cell_type": "code",
   "execution_count": 774,
   "id": "9a4ae7be-c40c-44ec-874f-40d82bba347d",
   "metadata": {},
   "outputs": [],
   "source": [
    "replace_sg = {'Postgraduate researcher (PGR)':'PGRs','Early-career researcher':'Early Career Researchers',\n",
    "             'Research supporting (Other)':'Academic Research Support','Research supporting (Technical)':'Technical Support',\n",
    "             'None of the above':'Unknow'}\n",
    "\n",
    "replace_fc = {'HUMS':'FHUMS'}\n",
    "\n",
    "replace_sch = {'None - Faculty Office':'Faculty Office'}\n",
    "\n",
    "replace_d = {'Technical Services':'Technical'}\n",
    "\n",
    "replace_in = {'Henry Royce Institute for Advanced Materials (HRI)':'Henry Royce Institute',\n",
    "             'Photon Science Institute (PSI)':'Photon Science Institute',\n",
    "              'Manchester Institute of Biotechnology (MIB)':'Manchester Institute of Biotechnology',\n",
    "             'Manchester Environmental Research Institute (MERI)':'Manchester Environmental Research Institute'}\n",
    "\n",
    "replacement = [replace_sg,replace_fc,replace_sch,replace_d,replace_in]\n",
    "\n",
    "for index, ele in enumerate(replacement):\n",
    "    for old_value, new_value in ele.items():\n",
    "        sv_stakeholders.iloc[:,index]=sv_stakeholders.iloc[:,index].str.replace(old_value, new_value)\n",
    "\n",
    "sv_stakeholders.fillna('Unknown', inplace=True)\n"
   ]
  },
  {
   "cell_type": "markdown",
   "id": "97b4b1ee-287b-4a9e-9a7a-3d5dfba0444d",
   "metadata": {},
   "source": [
    "Merging "
   ]
  },
  {
   "cell_type": "code",
   "execution_count": 776,
   "id": "c82fcdfc-bb08-4cdd-be4a-746692ebdd06",
   "metadata": {},
   "outputs": [],
   "source": [
    "Stakeholder_Data = pd.concat([it_stakeholders,sv_stakeholders],axis=0)\n",
    "Stakeholder_Data.to_csv('Stakeholder_Data.csv', index = True)\n",
    "Stakeholder_Data.to_excel('Stakeholder_Data.xlsx',engine='openpyxl', index = True)"
   ]
  },
  {
   "cell_type": "markdown",
   "id": "8d2e23d3-4fe4-4d60-aec7-177b1c05ba38",
   "metadata": {},
   "source": [
    "Visialization"
   ]
  },
  {
   "cell_type": "code",
   "execution_count": null,
   "id": "f3c5c77e-850f-4e93-84ef-a58420298322",
   "metadata": {},
   "outputs": [],
   "source": []
  }
 ],
 "metadata": {
  "kernelspec": {
   "display_name": "Python 3 (ipykernel)",
   "language": "python",
   "name": "python3"
  },
  "language_info": {
   "codemirror_mode": {
    "name": "ipython",
    "version": 3
   },
   "file_extension": ".py",
   "mimetype": "text/x-python",
   "name": "python",
   "nbconvert_exporter": "python",
   "pygments_lexer": "ipython3",
   "version": "3.12.3"
  }
 },
 "nbformat": 4,
 "nbformat_minor": 5
}
